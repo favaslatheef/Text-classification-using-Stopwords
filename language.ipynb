{
 "cells": [
  {
   "cell_type": "code",
   "execution_count": 4,
   "metadata": {
    "collapsed": false
   },
   "outputs": [
    {
     "data": {
      "text/plain": [
       "['The',\n",
       " 'question',\n",
       " 'of',\n",
       " 'whether',\n",
       " 'a',\n",
       " 'computer',\n",
       " 'can',\n",
       " 'think',\n",
       " 'is',\n",
       " 'no',\n",
       " 'more',\n",
       " 'interesting',\n",
       " 'than',\n",
       " 'the',\n",
       " 'question',\n",
       " 'of',\n",
       " 'whether',\n",
       " 'a',\n",
       " 'submarine',\n",
       " 'can',\n",
       " 'swim']"
      ]
     },
     "execution_count": 4,
     "metadata": {},
     "output_type": "execute_result"
    }
   ],
   "source": [
    "#Tokenize the text for making a set of words in the text\n",
    "#The following code only keeps the alphanumerics\n",
    "\n",
    "from nltk.tokenize import RegexpTokenizer\n",
    "text = '“The question of whether a computer can think is no more interesting than the question of whether a submarine can swim.” '\n",
    "tokenizer = RegexpTokenizer(r'\\w+')\n",
    "token = tokenizer.tokenize(text)\n",
    "token\n"
   ]
  },
  {
   "cell_type": "code",
   "execution_count": 7,
   "metadata": {
    "collapsed": false
   },
   "outputs": [
    {
     "data": {
      "text/plain": [
       "['danish',\n",
       " 'dutch',\n",
       " 'english',\n",
       " 'finnish',\n",
       " 'french',\n",
       " 'german',\n",
       " 'hungarian',\n",
       " 'italian',\n",
       " 'kazakh',\n",
       " 'norwegian',\n",
       " 'portuguese',\n",
       " 'romanian',\n",
       " 'russian',\n",
       " 'spanish',\n",
       " 'swedish',\n",
       " 'turkish']"
      ]
     },
     "execution_count": 7,
     "metadata": {},
     "output_type": "execute_result"
    }
   ],
   "source": [
    "from nltk.tokenize import RegexpTokenizer\n",
    "text = '“The question of whether a computer can think is no more interesting than the question of whether a submarine can swim.” '\n",
    "tokenizer = RegexpTokenizer(r'\\w+')\n",
    "token = tokenizer.tokenize(text)\n",
    "\n",
    "#Import the stopwords in different languages \n",
    "#You can see the available languages by the following code\n",
    "\n",
    "from nltk.corpus import stopwords\n",
    "stopwords.fileids()\n",
    "\n"
   ]
  },
  {
   "cell_type": "code",
   "execution_count": 9,
   "metadata": {
    "collapsed": false
   },
   "outputs": [
    {
     "data": {
      "text/plain": [
       "['as', 'you', 'i', 'said', 'you', 'are', 'a', 'asshole', 'fuck', 'off']"
      ]
     },
     "execution_count": 9,
     "metadata": {},
     "output_type": "execute_result"
    }
   ],
   "source": [
    "from nltk.tokenize import RegexpTokenizer\n",
    "text = '“The question of whether a computer can think is no more interesting than the question of whether a submarine can swim.” '\n",
    "tokenizer = RegexpTokenizer(r'\\w+')\n",
    "token = tokenizer.tokenize(text)\n",
    "from nltk.corpus import stopwords\n",
    "\n",
    "#Make all the words to lowercase\n",
    "\n",
    "wordlower =[]\n",
    "for word in token:\n",
    "    wordlower.append(word.lower())\n",
    "wordlower\n",
    "\n"
   ]
  },
  {
   "cell_type": "code",
   "execution_count": 21,
   "metadata": {
    "collapsed": false
   },
   "outputs": [
    {
     "data": {
      "text/plain": [
       "{'danish': 0,\n",
       " 'dutch': 2,\n",
       " 'english': 8,\n",
       " 'finnish': 0,\n",
       " 'french': 0,\n",
       " 'german': 0,\n",
       " 'hungarian': 1,\n",
       " 'italian': 1,\n",
       " 'kazakh': 0,\n",
       " 'norwegian': 1,\n",
       " 'portuguese': 2,\n",
       " 'romanian': 1,\n",
       " 'russian': 0,\n",
       " 'spanish': 2,\n",
       " 'swedish': 0,\n",
       " 'turkish': 0}"
      ]
     },
     "execution_count": 21,
     "metadata": {},
     "output_type": "execute_result"
    }
   ],
   "source": [
    "from nltk.tokenize import RegexpTokenizer\n",
    "text = '“The question of whether a computer can think is no more interesting than the question of whether a submarine can swim.” '\n",
    "tokenizer = RegexpTokenizer(r'\\w+')\n",
    "token = tokenizer.tokenize(text)\n",
    "from nltk.corpus import stopwords\n",
    "wordlower =[]\n",
    "for word in token:\n",
    "    wordlower.append(word.lower())\n",
    "\n",
    "\n",
    "#Find the intersection between the set of words and default stopwords\n",
    "no_of_common_words = {}\n",
    "wordlower = set(wordlower)\n",
    "\n",
    "for language in stopwords.fileids():\n",
    "    set_of_stopwords = set(stopwords.words(language))\n",
    "    common_words = set_of_stopwords.intersection(wordlower)\n",
    "    no_of_common_words[language]=len(common_words)\n",
    "\n",
    "no_of_common_words\n",
    "\n"
   ]
  },
  {
   "cell_type": "code",
   "execution_count": 22,
   "metadata": {
    "collapsed": false
   },
   "outputs": [
    {
     "data": {
      "text/plain": [
       "'english'"
      ]
     },
     "execution_count": 22,
     "metadata": {},
     "output_type": "execute_result"
    }
   ],
   "source": [
    "from nltk.tokenize import RegexpTokenizer\n",
    "text = '“The question of whether a computer can think is no more interesting than the question of whether a submarine can swim.” '\n",
    "tokenizer = RegexpTokenizer(r'\\w+')\n",
    "token = tokenizer.tokenize(text)\n",
    "from nltk.corpus import stopwords\n",
    "wordlower =[]\n",
    "for word in token:\n",
    "    wordlower.append(word.lower())\n",
    "no_of_common_words = {}\n",
    "wordlower = set(wordlower)\n",
    "for language in stopwords.fileids():\n",
    "    set_of_stopwords = set(stopwords.words(language))\n",
    "    common_words = set_of_stopwords.intersection(wordlower)\n",
    "    no_of_common_words[language]=len(common_words)\n",
    "\n",
    "#Find the maximum from the dictionary\n",
    "\n",
    "most_probable_language = max(no_of_common_words, key=no_of_common_words.get)\n",
    "most_probable_language\n",
    "\n",
    "\n"
   ]
  }
 ],
 "metadata": {
  "anaconda-cloud": {},
  "kernelspec": {
   "display_name": "Python [conda root]",
   "language": "python",
   "name": "conda-root-py"
  },
  "language_info": {
   "codemirror_mode": {
    "name": "ipython",
    "version": 3
   },
   "file_extension": ".py",
   "mimetype": "text/x-python",
   "name": "python",
   "nbconvert_exporter": "python",
   "pygments_lexer": "ipython3",
   "version": "3.5.2"
  }
 },
 "nbformat": 4,
 "nbformat_minor": 1
}
